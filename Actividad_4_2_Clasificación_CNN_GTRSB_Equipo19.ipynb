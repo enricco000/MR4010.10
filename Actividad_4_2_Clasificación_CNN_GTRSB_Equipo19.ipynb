{
  "nbformat": 4,
  "nbformat_minor": 0,
  "metadata": {
    "colab": {
      "provenance": [],
      "authorship_tag": "ABX9TyO8H3/XHbXzdOL+rjPfgsvq",
      "include_colab_link": true
    },
    "kernelspec": {
      "name": "python3",
      "display_name": "Python 3"
    },
    "language_info": {
      "name": "python"
    }
  },
  "cells": [
    {
      "cell_type": "markdown",
      "metadata": {
        "id": "view-in-github",
        "colab_type": "text"
      },
      "source": [
        "<a href=\"https://colab.research.google.com/github/enricco000/MR4010.10/blob/main/Actividad_4_2_Clasificaci%C3%B3n_CNN_GTRSB_Equipo19.ipynb\" target=\"_parent\"><img src=\"https://colab.research.google.com/assets/colab-badge.svg\" alt=\"Open In Colab\"/></a>"
      ]
    },
    {
      "cell_type": "code",
      "execution_count": null,
      "metadata": {
        "id": "GYLTKEl4vBjl"
      },
      "outputs": [],
      "source": []
    }
  ]
}