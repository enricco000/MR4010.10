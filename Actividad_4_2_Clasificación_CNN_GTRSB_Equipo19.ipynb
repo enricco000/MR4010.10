{
  "nbformat": 4,
  "nbformat_minor": 0,
  "metadata": {
    "colab": {
      "provenance": [],
      "authorship_tag": "ABX9TyPqnU0B2Z7fk4Kp92rl2jZd",
      "include_colab_link": true
    },
    "kernelspec": {
      "name": "python3",
      "display_name": "Python 3"
    },
    "language_info": {
      "name": "python"
    }
  },
  "cells": [
    {
      "cell_type": "markdown",
      "metadata": {
        "id": "view-in-github",
        "colab_type": "text"
      },
      "source": [
        "<a href=\"https://colab.research.google.com/github/enricco000/MR4010.10/blob/main/Actividad_4_2_Clasificaci%C3%B3n_CNN_GTRSB_Equipo19.ipynb\" target=\"_parent\"><img src=\"https://colab.research.google.com/assets/colab-badge.svg\" alt=\"Open In Colab\"/></a>"
      ]
    },
    {
      "cell_type": "code",
      "source": [
        "# Importación de librerías estándar\n",
        "import os\n",
        "import random\n",
        "from PIL import Image\n",
        "import pandas as pd\n",
        "import numpy as np\n",
        "import matplotlib.pyplot as plt\n",
        "import seaborn as sns; sns.set()\n",
        "# Al igual que en la actividad anterior, el dataset está en google drive.\n",
        "# Para correr este notebook, debes subir tu\n",
        "# dataset a google drive también. En la entrega anterior, utilizamos el juego\n",
        "# el siguiente juego de datos de Kaggle:\n",
        "# https://www.kaggle.com/datasets/meowmeowmeowmeowmeow/gtsrb-german-traffic-sign?resource=download\n",
        "# Para poder accederlo desde este notebook\n",
        "# necesitamos importar drive\n",
        "from google.colab import drive\n",
        "drive.mount('/content/gdrive')\n",
        "# Definimos la ruta de la carpeta donde se encuentran las imágenes\n",
        "PWD = '/content/gdrive/MyDrive/gtsrb'\n",
        "# Definimos las rutas de las subcarpetas\n",
        "TRAIN = os.path.join(PWD, 'Train')\n",
        "TEST = os.path.join(PWD, 'Test')\n",
        "META = os.path.join(PWD, 'Meta')"
      ],
      "metadata": {
        "colab": {
          "base_uri": "https://localhost:8080/"
        },
        "id": "7EPoYok1GWKY",
        "outputId": "1a68e8ff-96d4-4ec8-e514-666a98c50fec"
      },
      "execution_count": 1,
      "outputs": [
        {
          "output_type": "stream",
          "name": "stdout",
          "text": [
            "Mounted at /content/gdrive\n"
          ]
        }
      ]
    },
    {
      "cell_type": "code",
      "source": [
        "# Importaciones para el preprocesamiento y la CNN\n",
        "import tensorflow as tf\n",
        "from tensorflow.keras.preprocessing.image import ImageDataGenerator\n",
        "from tensorflow.keras.models import Sequential\n",
        "from tensorflow.keras.layers import Dense, Flatten, Conv2D, MaxPooling2D, Dropout\n",
        "from tensorflow.keras.optimizers import Adam\n",
        "from tensorflow.keras.utils import to_categorical\n",
        "\n",
        "# Definición de los parámetros\n",
        "num_classes = 43  # Tenemos 43 clases en este juego de datos\n",
        "batch_size = 32\n",
        "epochs = 30\n",
        "img_height, img_width = 64, 64\n",
        "\n",
        "# Generador de imágenes para el entrenamiento\n",
        "train_datagen = ImageDataGenerator(rescale=1./255, validation_split=0.2) \n",
        "\n",
        "# Generador de flujo de las imágenes para el entrenamiento, a partir del\n",
        "# generador de imágenes\n",
        "train_generator = train_datagen.flow_from_directory(\n",
        "    directory=TRAIN,\n",
        "    target_size=(img_height, img_width),\n",
        "    class_mode='categorical',\n",
        "    batch_size=batch_size,\n",
        "    shuffle=True,\n",
        "    subset='training') # data de entrenamiento\n",
        "\n",
        "# Generador de flujo de imágenes para validación\n",
        "validation_generator = train_datagen.flow_from_directory(\n",
        "    directory=TRAIN, # se usa el mismo directorio que en el entrenamiento\n",
        "    target_size=(img_height, img_width),\n",
        "    class_mode='categorical',\n",
        "    batch_size=batch_size,\n",
        "    shuffle=True,\n",
        "    subset='validation') # data de validación\n",
        "\n",
        "# Definición del modelo. Adicional a lo que se hizo para la actividad pasada,\n",
        "# en este caso vamos a añadir una capa de abandono después de cada capa de \n",
        "# agrupamiento. Dado que son varias clases, estamos tratando de encontrar\n",
        "# las características más notorias para cada clase, por lo cual es importante\n",
        "# añadir la capa de abandono.\n",
        "model = Sequential([\n",
        "    Conv2D(32, kernel_size=(3, 3), activation='relu', input_shape=(img_height, img_width, 3)),\n",
        "    MaxPooling2D(pool_size=(2, 2)),\n",
        "    Dropout(0.3),\n",
        "\n",
        "    Conv2D(64, kernel_size=(3, 3), activation='relu'),\n",
        "    MaxPooling2D(pool_size=(2, 2)),\n",
        "    Dropout(0.25),\n",
        "\n",
        "    Conv2D(64, kernel_size=(3, 3), activation='relu'),\n",
        "    MaxPooling2D(pool_size=(2, 2)),\n",
        "    Dropout(0.2),\n",
        "\n",
        "    Flatten(),\n",
        "    Dense(256, activation='relu'),\n",
        "    Dropout(0.5),\n",
        "    Dense(num_classes, activation='softmax')\n",
        "])\n",
        "\n",
        "# Compilación del modelo\n",
        "model.compile(optimizer=Adam(), \n",
        "              loss='categorical_crossentropy', \n",
        "              metrics=['accuracy'])\n",
        "\n",
        "# Entrenamiento del modelo. En esta ocasión no vamos a hacer validación\n",
        "# cruzada. Consideramos que el tamaño del dataset vuelve innecesaria y\n",
        "# prohibitiva tal estrategia\n",
        "history = model.fit(\n",
        "    train_generator,\n",
        "    steps_per_epoch=train_generator.samples // batch_size,\n",
        "    validation_data=validation_generator, \n",
        "    validation_steps=validation_generator.samples // batch_size,\n",
        "    epochs=epochs)\n"
      ],
      "metadata": {
        "colab": {
          "base_uri": "https://localhost:8080/"
        },
        "id": "KgWQ1Df4IIJy",
        "outputId": "448cb7f3-6493-4cf4-c59d-21637ce8dfcf"
      },
      "execution_count": null,
      "outputs": [
        {
          "output_type": "stream",
          "name": "stdout",
          "text": [
            "Found 31376 images belonging to 43 classes.\n",
            "Found 7843 images belonging to 43 classes.\n",
            "Epoch 1/30\n",
            "980/980 [==============================] - 13281s 14s/step - loss: 1.5081 - accuracy: 0.5598 - val_loss: 0.5693 - val_accuracy: 0.8258\n",
            "Epoch 2/30\n",
            "980/980 [==============================] - 213s 217ms/step - loss: 0.3437 - accuracy: 0.8917 - val_loss: 0.3284 - val_accuracy: 0.9106\n",
            "Epoch 3/30\n",
            "980/980 [==============================] - 210s 214ms/step - loss: 0.1993 - accuracy: 0.9367 - val_loss: 0.2621 - val_accuracy: 0.9244\n",
            "Epoch 4/30\n",
            "980/980 [==============================] - 211s 215ms/step - loss: 0.1440 - accuracy: 0.9538 - val_loss: 0.2222 - val_accuracy: 0.9401\n",
            "Epoch 5/30\n",
            "980/980 [==============================] - 210s 214ms/step - loss: 0.1197 - accuracy: 0.9630 - val_loss: 0.1850 - val_accuracy: 0.9519\n",
            "Epoch 6/30\n",
            "980/980 [==============================] - 208s 213ms/step - loss: 0.1106 - accuracy: 0.9660 - val_loss: 0.2886 - val_accuracy: 0.9327\n",
            "Epoch 7/30\n",
            "980/980 [==============================] - 208s 212ms/step - loss: 0.0935 - accuracy: 0.9708 - val_loss: 0.1879 - val_accuracy: 0.9538\n",
            "Epoch 8/30\n",
            "980/980 [==============================] - 208s 212ms/step - loss: 0.0811 - accuracy: 0.9747 - val_loss: 0.2172 - val_accuracy: 0.9555\n",
            "Epoch 9/30\n",
            "980/980 [==============================] - 210s 214ms/step - loss: 0.0757 - accuracy: 0.9761 - val_loss: 0.2307 - val_accuracy: 0.9483\n",
            "Epoch 10/30\n",
            "980/980 [==============================] - 208s 212ms/step - loss: 0.0701 - accuracy: 0.9775 - val_loss: 0.2345 - val_accuracy: 0.9545\n",
            "Epoch 11/30\n",
            "980/980 [==============================] - 206s 211ms/step - loss: 0.0737 - accuracy: 0.9772 - val_loss: 0.1900 - val_accuracy: 0.9579\n",
            "Epoch 12/30\n",
            "980/980 [==============================] - 208s 212ms/step - loss: 0.0587 - accuracy: 0.9823 - val_loss: 0.1720 - val_accuracy: 0.9628\n",
            "Epoch 13/30\n",
            "980/980 [==============================] - 208s 212ms/step - loss: 0.0615 - accuracy: 0.9813 - val_loss: 0.1850 - val_accuracy: 0.9602\n",
            "Epoch 14/30\n",
            "980/980 [==============================] - 210s 214ms/step - loss: 0.0576 - accuracy: 0.9821 - val_loss: 0.2554 - val_accuracy: 0.9401\n",
            "Epoch 15/30\n",
            "980/980 [==============================] - 209s 213ms/step - loss: 0.0527 - accuracy: 0.9841 - val_loss: 0.2150 - val_accuracy: 0.9592\n",
            "Epoch 16/30\n",
            "980/980 [==============================] - 207s 211ms/step - loss: 0.0512 - accuracy: 0.9846 - val_loss: 0.1943 - val_accuracy: 0.9612\n",
            "Epoch 17/30\n",
            "980/980 [==============================] - 208s 212ms/step - loss: 0.0516 - accuracy: 0.9841 - val_loss: 0.1654 - val_accuracy: 0.9661\n",
            "Epoch 18/30\n",
            "980/980 [==============================] - 210s 214ms/step - loss: 0.0512 - accuracy: 0.9847 - val_loss: 0.1511 - val_accuracy: 0.9635\n",
            "Epoch 19/30\n",
            "980/980 [==============================] - 210s 214ms/step - loss: 0.0459 - accuracy: 0.9866 - val_loss: 0.1838 - val_accuracy: 0.9666\n",
            "Epoch 20/30\n",
            "355/980 [=========>....................] - ETA: 2:01 - loss: 0.0428 - accuracy: 0.9878"
          ]
        }
      ]
    }
  ]
}